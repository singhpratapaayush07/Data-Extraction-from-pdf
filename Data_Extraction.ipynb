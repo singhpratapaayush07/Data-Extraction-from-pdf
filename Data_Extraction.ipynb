{
 "cells": [
  {
   "cell_type": "markdown",
   "metadata": {
    "id": "bhMbr1USdFLw"
   },
   "source": [
    "**The Following Code Provides the following Features:**\n",
    "\n",
    "\n",
    "1.   Data Extraction of PDF files\n",
    "2.   Find Patterns in FIle \n",
    "\n",
    "1.   Check Encrypted File\n",
    "2.   Decrypt (if the file is encrypted)\n",
    "\n",
    "1.   Total Pages in file\n",
    "2.   Check Page Modes\n",
    "\n",
    "\n",
    "\n",
    "\n",
    "\n",
    "\n",
    "\n"
   ]
  },
  {
   "cell_type": "code",
   "execution_count": 5,
   "metadata": {
    "id": "ly_sMhur8Sxe"
   },
   "outputs": [],
   "source": [
    "import PyPDF2 as pdf \n",
    "from nltk.tokenize import word_tokenize\n",
    "from nltk.corpus import stopwords\n",
    "import re\n",
    "\n",
    "\n",
    "'''\n",
    " opening the file with read binary mode\n",
    " if u wish to write then use wb (write binay)  mode\n",
    "\n",
    "'''\n",
    "try:\n",
    "    file = open('pdf-sample.pdf',\"rb\") #PDF name: pdf-sample.pdf\n",
    "except FileNotFoundError as e:\n",
    "    print(e)\n",
    "\n",
    "pages = pdf.PdfFileReader(file) # reading the pdf file into pages\n",
    "\n",
    "\n",
    "# prints the information of the passed document\n",
    "def get_DocumetInfo():\n",
    "    global pages\n",
    "    x = pages.getDocumentInfo()\n",
    "    print(x) \n",
    "    return\n",
    "\n",
    "\n",
    "# prints the number of pages in the document\n",
    "def get_NumberOfPages():\n",
    "    global pages\n",
    "    n = pages.getNumPages()\n",
    "    print('Number of pages in the document :',n)\n",
    "    return\n",
    "    \n",
    "\n",
    "def get_pageMode():\n",
    "    global pages\n",
    "    m = pages.getPageMode()\n",
    "    print(m)\n",
    "    \n",
    "\n",
    "# print the encryption status of the pages\n",
    "def check_encryption():\n",
    "    global pages\n",
    "    return (pages.isEncrypted)\n",
    "    \n",
    "\n",
    "# if page encripted decription can be done with password field\n",
    "def make_decryption():\n",
    "    global pages\n",
    "    password = '' # add password here\n",
    "    status = pages.decrypt(password)\n",
    "    print(status) # prints the decription status\n",
    "\n",
    "\n",
    "\n",
    "# prints the data in a required page \n",
    "def get_page_data(pageNo):\n",
    "    global pages\n",
    "    page1 = pages.getPage(pageNo) # get the each page\n",
    "    #print(page1.extractText())\n",
    "    return (page1.extractText())\n",
    "\n",
    "\n",
    "\n",
    "  \n",
    "\n"
   ]
  },
  {
   "cell_type": "code",
   "execution_count": 6,
   "metadata": {
    "id": "3baU3lAmPxBr"
   },
   "outputs": [],
   "source": [
    "def get_keywords(Text):\n",
    "  tokens = word_tokenize(Text)\n",
    "  punctuations = ['(', ')', ';', ':', '[', ']', ',', '.']\n",
    "  stop_words = stopwords.words('english')\n",
    "  keywords = [word for word in tokens if not word in stop_words and not word in punctuations]\n",
    "  return keywords"
   ]
  },
  {
   "cell_type": "code",
   "execution_count": 7,
   "metadata": {
    "id": "UBLtLdw0QmlU"
   },
   "outputs": [],
   "source": [
    "def find_pattern(Text,pattern):\n",
    "  for line in Text.split('.'):\n",
    "    for match in re.finditer(pattern, line):\n",
    "        print(line)"
   ]
  },
  {
   "cell_type": "code",
   "execution_count": null,
   "metadata": {
    "id": "tTsi9UHdSf6l"
   },
   "outputs": [],
   "source": []
  },
  {
   "cell_type": "code",
   "execution_count": 8,
   "metadata": {
    "colab": {
     "base_uri": "https://localhost:8080/"
    },
    "id": "UQTJ17g_SgAA",
    "outputId": "3c0f9d5a-a0d4-4cdc-f1a3-aa27cc85893c"
   },
   "outputs": [
    {
     "name": "stdout",
     "output_type": "stream",
     "text": [
      "Adobe Acrobat PDF Files\n",
      "Adobe® Portable Document Format (PDF) is a universal file format that preserves all\n",
      "of the fonts, formatting, colours and graphics of any source document, regardless of\n",
      "\n",
      "the application and platform used to create it.\n",
      "Adobe PDF is an ideal format for electronic document distribution as it overcomes the\n",
      "problems commonly encountered with electronic file sharing.\n",
      " Anyone, anywhere can open a PDF file. All you need is the free Adobe Acrobat\n",
      "Reader. Recipients of other file formats sometimes can't open files because they\n",
      "don't have the applications used to create the documents.\n",
      " PDF files \n",
      "always print correctly\n",
      " on any printing device.\n",
      " PDF files always display \n",
      "exactly\n",
      " as created, regardless of fonts, software, and\n",
      "operating systems. Fonts, and graphics are not lost due to platform, software, and\n",
      "version incompatibilities.\n",
      " The free Acrobat Reader is easy to download and can be freely distributed by\n",
      "anyone.\n",
      " Compact PDF files are smaller than their source files and download a\n",
      "page at a time for fast display on the Web.\n",
      "\n"
     ]
    }
   ],
   "source": [
    "text=get_page_data(0)\n",
    "print(text)"
   ]
  },
  {
   "cell_type": "markdown",
   "metadata": {
    "id": "Kfy0biglbADA"
   },
   "source": [
    "**Find Keyword**"
   ]
  },
  {
   "cell_type": "code",
   "execution_count": 9,
   "metadata": {
    "colab": {
     "base_uri": "https://localhost:8080/"
    },
    "id": "n9haGvN-Sf-V",
    "outputId": "f617e915-b560-4684-ad3c-3933df68527e"
   },
   "outputs": [
    {
     "name": "stdout",
     "output_type": "stream",
     "text": [
      "109\n",
      "['Adobe', 'Acrobat', 'PDF', 'Files', 'Adobe®', 'Portable', 'Document', 'Format', 'PDF', 'universal', 'file', 'format', 'preserves', 'fonts', 'formatting', 'colours', 'graphics', 'source', 'document', 'regardless', 'application', 'platform', 'used', 'create', 'Adobe', 'PDF', 'ideal', 'format', 'electronic', 'document', 'distribution', 'overcomes', 'problems', 'commonly', 'encountered', 'electronic', 'file', 'sharing', 'Anyone', 'anywhere', 'open', 'PDF', 'file', 'All', 'need', 'free', 'Adobe', 'Acrobat', 'Reader', 'Recipients', 'file', 'formats', 'sometimes', 'ca', \"n't\", 'open', 'files', \"n't\", 'applications', 'used', 'create', 'documents', 'PDF', 'files', 'always', 'print', 'correctly', 'printing', 'device', 'PDF', 'files', 'always', 'display', 'exactly', 'created', 'regardless', 'fonts', 'software', 'operating', 'systems', 'Fonts', 'graphics', 'lost', 'due', 'platform', 'software', 'version', 'incompatibilities', 'The', 'free', 'Acrobat', 'Reader', 'easy', 'download', 'freely', 'distributed', 'anyone', 'Compact', 'PDF', 'files', 'smaller', 'source', 'files', 'download', 'page', 'time', 'fast', 'display', 'Web']\n"
     ]
    }
   ],
   "source": [
    "#Finding Keyword\n",
    "keywords=get_keywords(text)\n",
    "print(len(keywords))\n",
    "print(keywords)"
   ]
  },
  {
   "cell_type": "markdown",
   "metadata": {
    "id": "oCLZX9QAbMok"
   },
   "source": [
    "**Find Pattern in the given PDF**"
   ]
  },
  {
   "cell_type": "code",
   "execution_count": 11,
   "metadata": {
    "colab": {
     "base_uri": "https://localhost:8080/"
    },
    "id": "R5yO0bboUDJ_",
    "outputId": "4c0a0600-e4b2-4ad6-d156-4b68f9644b54"
   },
   "outputs": [
    {
     "name": "stdout",
     "output_type": "stream",
     "text": [
      "Enter Pattern to be searched:ADOBE Pdf\n",
      "\n",
      "adobe pdf is an ideal format for electronic document distribution as it overcomes the\n",
      "problems commonly encountered with electronic file sharing\n"
     ]
    }
   ],
   "source": [
    "#Finding Pattern\n",
    "pattern=input(\"Enter Pattern to be searched:\" )\n",
    "#Converting down all the Alphabets to lowercase\n",
    "pattern=pattern.lower()\n",
    "text=text.lower() \n",
    "find_pattern(text,pattern)"
   ]
  },
  {
   "cell_type": "code",
   "execution_count": 148,
   "metadata": {
    "id": "5SqSbP4uZIQ3"
   },
   "outputs": [],
   "source": []
  },
  {
   "cell_type": "code",
   "execution_count": 146,
   "metadata": {
    "id": "mqQMSBHGbdhQ"
   },
   "outputs": [],
   "source": []
  }
 ],
 "metadata": {
  "colab": {
   "collapsed_sections": [],
   "name": "Data Extraction.ipynb",
   "provenance": []
  },
  "kernelspec": {
   "display_name": "Python 3",
   "language": "python",
   "name": "python3"
  },
  "language_info": {
   "codemirror_mode": {
    "name": "ipython",
    "version": 3
   },
   "file_extension": ".py",
   "mimetype": "text/x-python",
   "name": "python",
   "nbconvert_exporter": "python",
   "pygments_lexer": "ipython3",
   "version": "3.8.3"
  }
 },
 "nbformat": 4,
 "nbformat_minor": 1
}
