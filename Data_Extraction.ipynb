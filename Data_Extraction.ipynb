{
 "cells": [
  {
   "cell_type": "markdown",
   "metadata": {
    "id": "bhMbr1USdFLw"
   },
   "source": [
    "**The Following Code Provides the following Features:**\n",
    "\n",
    "\n",
    "1.   Data Extraction of PDF files\n",
    "2.   Find Patterns in FIle \n",
    "\n",
    "1.   Check Encrypted File\n",
    "2.   Decrypt (if the file is encrypted)\n",
    "\n",
    "1.   Total Pages in file\n",
    "2.   Check Page Modes\n",
    "\n",
    "\n",
    "\n",
    "\n",
    "\n",
    "\n",
    "\n"
   ]
  },
  {
   "cell_type": "code",
   "execution_count": 1,
   "metadata": {
    "colab": {
     "base_uri": "https://localhost:8080/"
    },
    "id": "jNrk7jKqw7Th",
    "outputId": "86783e86-079c-4d60-da50-5c900b7fce16"
   },
   "outputs": [
    {
     "name": "stdout",
     "output_type": "stream",
     "text": [
      "Collecting PyPDF2\n",
      "  Downloading PyPDF2-1.26.0.tar.gz (77 kB)\n",
      "Building wheels for collected packages: PyPDF2\n",
      "  Building wheel for PyPDF2 (setup.py): started\n",
      "  Building wheel for PyPDF2 (setup.py): finished with status 'done'\n",
      "  Created wheel for PyPDF2: filename=PyPDF2-1.26.0-py3-none-any.whl size=61087 sha256=331dbb65d1bfabe57385fed4fe82192f51368fbd202f51392dbec6d2b85ac614\n",
      "  Stored in directory: c:\\users\\admin\\appdata\\local\\pip\\cache\\wheels\\b1\\1a\\8f\\a4c34be976825a2f7948d0fa40907598d69834f8ab5889de11\n",
      "Successfully built PyPDF2\n",
      "Installing collected packages: PyPDF2\n",
      "Successfully installed PyPDF2-1.26.0\n"
     ]
    }
   ],
   "source": [
    "!pip install PyPDF2"
   ]
  },
  {
   "cell_type": "code",
   "execution_count": 2,
   "metadata": {
    "id": "8qlsRLgqxAUu"
   },
   "outputs": [
    {
     "name": "stdout",
     "output_type": "stream",
     "text": [
      "Collecting textract\n",
      "  Downloading textract-1.6.3-py3-none-any.whl (21 kB)\n",
      "Requirement already satisfied: xlrd==1.2.0 in c:\\users\\admin\\anaconda3\\lib\\site-packages (from textract) (1.2.0)\n",
      "Collecting python-pptx==0.6.18\n",
      "  Downloading python-pptx-0.6.18.tar.gz (8.9 MB)\n",
      "Collecting six==1.12.0\n",
      "  Using cached six-1.12.0-py2.py3-none-any.whl (10 kB)\n",
      "Collecting argcomplete==1.10.0\n",
      "  Downloading argcomplete-1.10.0-py2.py3-none-any.whl (31 kB)\n",
      "Collecting beautifulsoup4==4.8.0\n",
      "  Downloading beautifulsoup4-4.8.0-py3-none-any.whl (97 kB)\n",
      "Collecting docx2txt==0.8\n",
      "  Downloading docx2txt-0.8.tar.gz (2.8 kB)\n",
      "Collecting SpeechRecognition==3.8.1\n",
      "  Downloading SpeechRecognition-3.8.1-py2.py3-none-any.whl (32.8 MB)\n",
      "Collecting extract-msg==0.23.1\n",
      "  Downloading extract_msg-0.23.1-py2.py3-none-any.whl (45 kB)\n",
      "Requirement already satisfied: chardet==3.0.4 in c:\\users\\admin\\anaconda3\\lib\\site-packages (from textract) (3.0.4)\n",
      "Collecting EbookLib==0.17.1\n",
      "  Downloading EbookLib-0.17.1.tar.gz (111 kB)\n",
      "Collecting pdfminer.six==20181108\n",
      "  Downloading pdfminer.six-20181108-py2.py3-none-any.whl (5.6 MB)\n",
      "Requirement already satisfied: lxml>=3.1.0 in c:\\users\\admin\\anaconda3\\lib\\site-packages (from python-pptx==0.6.18->textract) (4.5.2)\n",
      "Requirement already satisfied: Pillow>=3.3.2 in c:\\users\\admin\\anaconda3\\lib\\site-packages (from python-pptx==0.6.18->textract) (7.2.0)\n",
      "Requirement already satisfied: XlsxWriter>=0.5.7 in c:\\users\\admin\\anaconda3\\lib\\site-packages (from python-pptx==0.6.18->textract) (1.2.9)\n",
      "Requirement already satisfied: soupsieve>=1.2 in c:\\users\\admin\\anaconda3\\lib\\site-packages (from beautifulsoup4==4.8.0->textract) (2.0.1)\n",
      "Requirement already satisfied: olefile==0.46 in c:\\users\\admin\\anaconda3\\lib\\site-packages (from extract-msg==0.23.1->textract) (0.46)\n",
      "Collecting imapclient==2.1.0\n",
      "  Downloading IMAPClient-2.1.0-py2.py3-none-any.whl (73 kB)\n",
      "Collecting tzlocal==1.5.1\n",
      "  Downloading tzlocal-1.5.1.tar.gz (16 kB)\n",
      "Requirement already satisfied: sortedcontainers in c:\\users\\admin\\anaconda3\\lib\\site-packages (from pdfminer.six==20181108->textract) (2.2.2)\n",
      "Collecting pycryptodome\n",
      "  Downloading pycryptodome-3.9.9-cp38-cp38-win_amd64.whl (14.1 MB)\n",
      "Requirement already satisfied: pytz in c:\\users\\admin\\anaconda3\\lib\\site-packages (from tzlocal==1.5.1->extract-msg==0.23.1->textract) (2020.1)\n",
      "Building wheels for collected packages: python-pptx, docx2txt, EbookLib, tzlocal\n",
      "  Building wheel for python-pptx (setup.py): started\n",
      "  Building wheel for python-pptx (setup.py): finished with status 'done'\n",
      "  Created wheel for python-pptx: filename=python_pptx-0.6.18-py3-none-any.whl size=275709 sha256=58a982e7c728a0c64fa4a1054c075c98e639fec6879f8856db2b28a91e46c4ef\n",
      "  Stored in directory: c:\\users\\admin\\appdata\\local\\pip\\cache\\wheels\\11\\2b\\97\\d82ca57932fa62d52c723024419c5ec3b7c0f7ecf0a0f06332\n",
      "  Building wheel for docx2txt (setup.py): started\n",
      "  Building wheel for docx2txt (setup.py): finished with status 'done'\n",
      "  Created wheel for docx2txt: filename=docx2txt-0.8-py3-none-any.whl size=3969 sha256=9d71b21a186478d14bf7651534982a1d6b7ff15545c4a4f531941b6cc72b2349\n",
      "  Stored in directory: c:\\users\\admin\\appdata\\local\\pip\\cache\\wheels\\55\\f0\\2c\\81637d42670985178b77df6d41b9b6c6dc18c94818447414b9\n",
      "  Building wheel for EbookLib (setup.py): started\n",
      "  Building wheel for EbookLib (setup.py): finished with status 'done'\n",
      "  Created wheel for EbookLib: filename=EbookLib-0.17.1-py3-none-any.whl size=38167 sha256=85daeda8e48f92503181a40fe4acb8bd62f05a10c3d0e2538bfc5c67dc7c2c4d\n",
      "  Stored in directory: c:\\users\\admin\\appdata\\local\\pip\\cache\\wheels\\b4\\eb\\66\\00c65b5bbf31ec34329090ec9fe8c8a8d9cb7a3a3d93841386\n",
      "  Building wheel for tzlocal (setup.py): started\n",
      "  Building wheel for tzlocal (setup.py): finished with status 'done'\n",
      "  Created wheel for tzlocal: filename=tzlocal-1.5.1-py3-none-any.whl size=17547 sha256=0f6c4697e87c9c5607116f15eb2df157cc369a7122fd857b742a814d8aa7ac61\n",
      "  Stored in directory: c:\\users\\admin\\appdata\\local\\pip\\cache\\wheels\\3a\\14\\ce\\9c504116f6b89e4a05ce0bc0f41983df280d7e00f463481900\n",
      "Successfully built python-pptx docx2txt EbookLib tzlocal\n",
      "Installing collected packages: python-pptx, six, argcomplete, beautifulsoup4, docx2txt, SpeechRecognition, imapclient, tzlocal, extract-msg, EbookLib, pycryptodome, pdfminer.six, textract\n",
      "  Attempting uninstall: six\n",
      "    Found existing installation: six 1.15.0\n",
      "    Uninstalling six-1.15.0:\n",
      "      Successfully uninstalled six-1.15.0\n",
      "  Attempting uninstall: beautifulsoup4\n",
      "    Found existing installation: beautifulsoup4 4.9.1\n",
      "    Uninstalling beautifulsoup4-4.9.1:\n",
      "      Successfully uninstalled beautifulsoup4-4.9.1\n",
      "Successfully installed EbookLib-0.17.1 SpeechRecognition-3.8.1 argcomplete-1.10.0 beautifulsoup4-4.8.0 docx2txt-0.8 extract-msg-0.23.1 imapclient-2.1.0 pdfminer.six-20181108 pycryptodome-3.9.9 python-pptx-0.6.18 six-1.12.0 textract-1.6.3 tzlocal-1.5.1\n"
     ]
    }
   ],
   "source": [
    "!pip install textract"
   ]
  },
  {
   "cell_type": "code",
   "execution_count": 5,
   "metadata": {
    "id": "ly_sMhur8Sxe"
   },
   "outputs": [],
   "source": [
    "import PyPDF2 as pdf \n",
    "from nltk.tokenize import word_tokenize\n",
    "from nltk.corpus import stopwords\n",
    "import re\n",
    "\n",
    "\n",
    "'''\n",
    " opening the file with read binary mode\n",
    " if u wish to write then use wb (write binay)  mode\n",
    "\n",
    "'''\n",
    "try:\n",
    "    file = open('pdf-sample.pdf',\"rb\") #PDF name: pdf-sample.pdf\n",
    "except FileNotFoundError as e:\n",
    "    print(e)\n",
    "\n",
    "pages = pdf.PdfFileReader(file) # reading the pdf file into pages\n",
    "\n",
    "\n",
    "# prints the information of the passed document\n",
    "def get_DocumetInfo():\n",
    "    global pages\n",
    "    x = pages.getDocumentInfo()\n",
    "    print(x) \n",
    "    return\n",
    "\n",
    "\n",
    "# prints the number of pages in the document\n",
    "def get_NumberOfPages():\n",
    "    global pages\n",
    "    n = pages.getNumPages()\n",
    "    print('Number of pages in the document :',n)\n",
    "    return\n",
    "    \n",
    "\n",
    "def get_pageMode():\n",
    "    global pages\n",
    "    m = pages.getPageMode()\n",
    "    print(m)\n",
    "    \n",
    "\n",
    "# print the encryption status of the pages\n",
    "def check_encryption():\n",
    "    global pages\n",
    "    return (pages.isEncrypted)\n",
    "    \n",
    "\n",
    "# if page encripted decription can be done with password field\n",
    "def make_decryption():\n",
    "    global pages\n",
    "    password = '' # add password here\n",
    "    status = pages.decrypt(password)\n",
    "    print(status) # prints the decription status\n",
    "\n",
    "\n",
    "\n",
    "# prints the data in a required page \n",
    "def get_page_data(pageNo):\n",
    "    global pages\n",
    "    page1 = pages.getPage(pageNo) # get the each page\n",
    "    #print(page1.extractText())\n",
    "    return (page1.extractText())\n",
    "\n",
    "\n",
    "\n",
    "  \n",
    "\n"
   ]
  },
  {
   "cell_type": "code",
   "execution_count": 6,
   "metadata": {
    "id": "3baU3lAmPxBr"
   },
   "outputs": [],
   "source": [
    "def get_keywords(Text):\n",
    "  tokens = word_tokenize(Text)\n",
    "  punctuations = ['(', ')', ';', ':', '[', ']', ',', '.']\n",
    "  stop_words = stopwords.words('english')\n",
    "  keywords = [word for word in tokens if not word in stop_words and not word in punctuations]\n",
    "  return keywords"
   ]
  },
  {
   "cell_type": "code",
   "execution_count": 7,
   "metadata": {
    "id": "UBLtLdw0QmlU"
   },
   "outputs": [],
   "source": [
    "def find_pattern(Text,pattern):\n",
    "  for line in Text.split('.'):\n",
    "    for match in re.finditer(pattern, line):\n",
    "        print(line)"
   ]
  },
  {
   "cell_type": "code",
   "execution_count": null,
   "metadata": {
    "id": "tTsi9UHdSf6l"
   },
   "outputs": [],
   "source": []
  },
  {
   "cell_type": "code",
   "execution_count": 8,
   "metadata": {
    "colab": {
     "base_uri": "https://localhost:8080/"
    },
    "id": "UQTJ17g_SgAA",
    "outputId": "3c0f9d5a-a0d4-4cdc-f1a3-aa27cc85893c"
   },
   "outputs": [
    {
     "name": "stdout",
     "output_type": "stream",
     "text": [
      "Adobe Acrobat PDF Files\n",
      "Adobe® Portable Document Format (PDF) is a universal file format that preserves all\n",
      "of the fonts, formatting, colours and graphics of any source document, regardless of\n",
      "\n",
      "the application and platform used to create it.\n",
      "Adobe PDF is an ideal format for electronic document distribution as it overcomes the\n",
      "problems commonly encountered with electronic file sharing.\n",
      " Anyone, anywhere can open a PDF file. All you need is the free Adobe Acrobat\n",
      "Reader. Recipients of other file formats sometimes can't open files because they\n",
      "don't have the applications used to create the documents.\n",
      " PDF files \n",
      "always print correctly\n",
      " on any printing device.\n",
      " PDF files always display \n",
      "exactly\n",
      " as created, regardless of fonts, software, and\n",
      "operating systems. Fonts, and graphics are not lost due to platform, software, and\n",
      "version incompatibilities.\n",
      " The free Acrobat Reader is easy to download and can be freely distributed by\n",
      "anyone.\n",
      " Compact PDF files are smaller than their source files and download a\n",
      "page at a time for fast display on the Web.\n",
      "\n"
     ]
    }
   ],
   "source": [
    "text=get_page_data(0)\n",
    "print(text)"
   ]
  },
  {
   "cell_type": "markdown",
   "metadata": {
    "id": "Kfy0biglbADA"
   },
   "source": [
    "**Find Keyword**"
   ]
  },
  {
   "cell_type": "code",
   "execution_count": 9,
   "metadata": {
    "colab": {
     "base_uri": "https://localhost:8080/"
    },
    "id": "n9haGvN-Sf-V",
    "outputId": "f617e915-b560-4684-ad3c-3933df68527e"
   },
   "outputs": [
    {
     "name": "stdout",
     "output_type": "stream",
     "text": [
      "109\n",
      "['Adobe', 'Acrobat', 'PDF', 'Files', 'Adobe®', 'Portable', 'Document', 'Format', 'PDF', 'universal', 'file', 'format', 'preserves', 'fonts', 'formatting', 'colours', 'graphics', 'source', 'document', 'regardless', 'application', 'platform', 'used', 'create', 'Adobe', 'PDF', 'ideal', 'format', 'electronic', 'document', 'distribution', 'overcomes', 'problems', 'commonly', 'encountered', 'electronic', 'file', 'sharing', 'Anyone', 'anywhere', 'open', 'PDF', 'file', 'All', 'need', 'free', 'Adobe', 'Acrobat', 'Reader', 'Recipients', 'file', 'formats', 'sometimes', 'ca', \"n't\", 'open', 'files', \"n't\", 'applications', 'used', 'create', 'documents', 'PDF', 'files', 'always', 'print', 'correctly', 'printing', 'device', 'PDF', 'files', 'always', 'display', 'exactly', 'created', 'regardless', 'fonts', 'software', 'operating', 'systems', 'Fonts', 'graphics', 'lost', 'due', 'platform', 'software', 'version', 'incompatibilities', 'The', 'free', 'Acrobat', 'Reader', 'easy', 'download', 'freely', 'distributed', 'anyone', 'Compact', 'PDF', 'files', 'smaller', 'source', 'files', 'download', 'page', 'time', 'fast', 'display', 'Web']\n"
     ]
    }
   ],
   "source": [
    "#Finding Keyword\n",
    "keywords=get_keywords(text)\n",
    "print(len(keywords))\n",
    "print(keywords)"
   ]
  },
  {
   "cell_type": "markdown",
   "metadata": {
    "id": "oCLZX9QAbMok"
   },
   "source": [
    "**Find Pattern in the given PDF**"
   ]
  },
  {
   "cell_type": "code",
   "execution_count": 11,
   "metadata": {
    "colab": {
     "base_uri": "https://localhost:8080/"
    },
    "id": "R5yO0bboUDJ_",
    "outputId": "4c0a0600-e4b2-4ad6-d156-4b68f9644b54"
   },
   "outputs": [
    {
     "name": "stdout",
     "output_type": "stream",
     "text": [
      "Enter Pattern to be searched:ADOBE Pdf\n",
      "\n",
      "adobe pdf is an ideal format for electronic document distribution as it overcomes the\n",
      "problems commonly encountered with electronic file sharing\n"
     ]
    }
   ],
   "source": [
    "#Finding Pattern\n",
    "pattern=input(\"Enter Pattern to be searched:\" )\n",
    "#Converting down all the Alphabets to lowercase\n",
    "pattern=pattern.lower()\n",
    "text=text.lower() \n",
    "find_pattern(text,pattern)"
   ]
  },
  {
   "cell_type": "code",
   "execution_count": 148,
   "metadata": {
    "id": "5SqSbP4uZIQ3"
   },
   "outputs": [],
   "source": []
  },
  {
   "cell_type": "code",
   "execution_count": 146,
   "metadata": {
    "id": "mqQMSBHGbdhQ"
   },
   "outputs": [],
   "source": []
  }
 ],
 "metadata": {
  "colab": {
   "collapsed_sections": [],
   "name": "Data Extraction.ipynb",
   "provenance": []
  },
  "kernelspec": {
   "display_name": "Python 3",
   "language": "python",
   "name": "python3"
  },
  "language_info": {
   "codemirror_mode": {
    "name": "ipython",
    "version": 3
   },
   "file_extension": ".py",
   "mimetype": "text/x-python",
   "name": "python",
   "nbconvert_exporter": "python",
   "pygments_lexer": "ipython3",
   "version": "3.8.3"
  }
 },
 "nbformat": 4,
 "nbformat_minor": 1
}
